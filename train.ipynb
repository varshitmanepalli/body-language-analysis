{
  "nbformat": 4,
  "nbformat_minor": 0,
  "metadata": {
    "colab": {
      "provenance": [],
      "gpuType": "T4"
    },
    "kernelspec": {
      "name": "python3",
      "display_name": "Python 3"
    },
    "language_info": {
      "name": "python"
    },
    "accelerator": "GPU"
  },
  "cells": [
    {
      "cell_type": "code",
      "source": [
        "!wget https://cydar.ist.psu.edu/emotionchallenge/data/BOLD_ijcv.tar"
      ],
      "metadata": {
        "colab": {
          "base_uri": "https://localhost:8080/"
        },
        "id": "XmWJQfO1recu",
        "outputId": "58beca46-3407-4b2c-daa6-c37806bb344a"
      },
      "execution_count": null,
      "outputs": [
        {
          "output_type": "stream",
          "name": "stdout",
          "text": [
            "--2025-03-31 05:30:44--  https://cydar.ist.psu.edu/emotionchallenge/data/BOLD_ijcv.tar\n",
            "Resolving cydar.ist.psu.edu (cydar.ist.psu.edu)... 130.203.136.124\n",
            "Connecting to cydar.ist.psu.edu (cydar.ist.psu.edu)|130.203.136.124|:443... connected.\n",
            "HTTP request sent, awaiting response... 200 OK\n",
            "Length: 15225999360 (14G) [application/x-tar]\n",
            "Saving to: ‘BOLD_ijcv.tar’\n",
            "\n",
            "BOLD_ijcv.tar       100%[===================>]  14.18G  31.8MB/s    in 6m 52s  \n",
            "\n",
            "2025-03-31 05:37:36 (35.3 MB/s) - ‘BOLD_ijcv.tar’ saved [15225999360/15225999360]\n",
            "\n"
          ]
        }
      ]
    },
    {
      "cell_type": "code",
      "source": [
        "!wget https://cydar.ist.psu.edu/emotionchallenge/data/test_meta.csv"
      ],
      "metadata": {
        "colab": {
          "base_uri": "https://localhost:8080/"
        },
        "id": "nBnXWwXTr8kV",
        "outputId": "ef1539cb-88e1-4a50-a575-c4e7423d780c"
      },
      "execution_count": null,
      "outputs": [
        {
          "output_type": "stream",
          "name": "stdout",
          "text": [
            "--2025-03-31 05:37:36--  https://cydar.ist.psu.edu/emotionchallenge/data/test_meta.csv\n",
            "Resolving cydar.ist.psu.edu (cydar.ist.psu.edu)... 130.203.136.124\n",
            "Connecting to cydar.ist.psu.edu (cydar.ist.psu.edu)|130.203.136.124|:443... connected.\n",
            "HTTP request sent, awaiting response... 200 OK\n",
            "Length: 181728 (177K) [text/csv]\n",
            "Saving to: ‘test_meta.csv’\n",
            "\n",
            "test_meta.csv       100%[===================>] 177.47K   615KB/s    in 0.3s    \n",
            "\n",
            "2025-03-31 05:37:37 (615 KB/s) - ‘test_meta.csv’ saved [181728/181728]\n",
            "\n"
          ]
        }
      ]
    },
    {
      "cell_type": "code",
      "execution_count": null,
      "metadata": {
        "id": "MEXAG4eFlPBr",
        "colab": {
          "base_uri": "https://localhost:8080/"
        },
        "outputId": "ec3db55f-a07d-4655-9de5-73b52f29b3f0"
      },
      "outputs": [
        {
          "output_type": "execute_result",
          "data": {
            "text/plain": [
              "['BOLD_public',\n",
              " 'BOLD_public/videos',\n",
              " 'BOLD_public/videos/003',\n",
              " 'BOLD_public/videos/003/053oq2xB3oU.mp4',\n",
              " 'BOLD_public/videos/003/053oq2xB3oU.mp4/0001.mp4',\n",
              " 'BOLD_public/videos/003/053oq2xB3oU.mp4/0007.mp4',\n",
              " 'BOLD_public/videos/003/053oq2xB3oU.mp4/0012.mp4',\n",
              " 'BOLD_public/videos/003/053oq2xB3oU.mp4/0031.mp4',\n",
              " 'BOLD_public/videos/003/053oq2xB3oU.mp4/0045.mp4',\n",
              " 'BOLD_public/videos/003/053oq2xB3oU.mp4/0053.mp4']"
            ]
          },
          "metadata": {},
          "execution_count": 3
        }
      ],
      "source": [
        "import os\n",
        "import tarfile\n",
        "\n",
        "# Define path to the uploaded tar file and extraction directory\n",
        "tar_path = \"/content/BOLD_ijcv.tar\"  # Replace with actual uploaded path\n",
        "extract_dir = \"bold_dataset/\"\n",
        "\n",
        "# Extract the tar file\n",
        "if tarfile.is_tarfile(tar_path):\n",
        "    with tarfile.open(tar_path, \"r:*\") as tar:\n",
        "        tar.extractall(path=extract_dir)\n",
        "        extracted_files = tar.getnames()\n",
        "else:\n",
        "    extracted_files = [\"Provided file is not a valid tar archive.\"]\n",
        "\n",
        "extracted_files[:10]  # Show a preview of extracted file structure\n"
      ]
    },
    {
      "cell_type": "code",
      "source": [
        "import os\n",
        "import numpy as np\n",
        "import pandas as pd\n",
        "from glob import glob\n",
        "import torch\n",
        "from torch.utils.data import Dataset, DataLoader\n",
        "import torch.nn as nn\n",
        "import torch.nn.functional as F\n",
        "import torchvision.models as models\n",
        "from torchvision import transforms\n",
        "import cv2\n",
        "from PIL import Image\n",
        "from sklearn.metrics import classification_report, confusion_matrix\n",
        "import tensorflow as tf"
      ],
      "metadata": {
        "id": "bSmyLl-mts-l"
      },
      "execution_count": null,
      "outputs": []
    },
    {
      "cell_type": "code",
      "source": [
        "DATA_DIR = '/content/bold_dataset/BOLD_public'\n",
        "ANNOTATION_FILE = os.path.join(DATA_DIR, 'annotations/train.csv')\n",
        "NUM_CLASSES = 26\n",
        "NUM_SEGMENTS = 8\n",
        "BATCH_SIZE = 8\n",
        "EPOCHS = 10\n",
        "LR = 1e-4\n",
        "DEVICE = torch.device(\"cuda\" if torch.cuda.is_available() else \"cpu\")\n",
        "print(\"Using device:\", DEVICE)"
      ],
      "metadata": {
        "colab": {
          "base_uri": "https://localhost:8080/"
        },
        "id": "l2-hLMcFujAf",
        "outputId": "1ee37382-9f6d-4ba9-99cd-a973a493bb8c"
      },
      "execution_count": null,
      "outputs": [
        {
          "output_type": "stream",
          "name": "stdout",
          "text": [
            "Using device: cuda\n"
          ]
        }
      ]
    },
    {
      "cell_type": "code",
      "source": [
        "class BoLDDataset(Dataset):\n",
        "    def __init__(self, annotation_file, video_dir, transform=None):\n",
        "        self.annotations = []\n",
        "        self.video_dir = video_dir\n",
        "        self.transform = transform\n",
        "\n",
        "        with open(annotation_file, \"r\") as f:\n",
        "            lines = f.readlines()[1:]\n",
        "            for line in lines:\n",
        "                parts = line.strip().split(\",\")\n",
        "                video_id = parts[0]\n",
        "                person_id = parts[1]\n",
        "                label_vec = parts[4]\n",
        "                label = np.argmax([int(float(i)) for i in label_vec.strip().split(',')])\n",
        "                self.annotations.append((video_id, person_id, label))\n",
        "\n",
        "    def __len__(self):\n",
        "        return len(self.annotations)\n",
        "\n",
        "    def __getitem__(self, idx):\n",
        "        video_id, person_id, label = self.annotations[idx]\n",
        "        video_path = os.path.join(self.video_dir, f\"{video_id}.mp4\", f\"{person_id}.mp4\")\n",
        "        frames = self._load_video(video_path)\n",
        "\n",
        "        if self.transform:\n",
        "            frames = torch.stack([self.transform(Image.fromarray(frame)) for frame in frames])\n",
        "\n",
        "        return frames, label\n",
        "\n",
        "    def _load_video(self, path, num_frames=8):\n",
        "      cap = cv2.VideoCapture(path)\n",
        "      frame_count = int(cap.get(cv2.CAP_PROP_FRAME_COUNT))\n",
        "      step = max(frame_count // num_frames, 1)\n",
        "\n",
        "      frames = []\n",
        "      for i in range(0, frame_count, step):\n",
        "          cap.set(cv2.CAP_PROP_POS_FRAMES, i)\n",
        "          ret, frame = cap.read()\n",
        "          if ret:\n",
        "            frame = cv2.cvtColor(frame, cv2.COLOR_BGR2RGB)\n",
        "            frames.append(frame)\n",
        "          if len(frames) == num_frames:\n",
        "            break\n",
        "      cap.release()\n",
        "\n",
        "      # ❗ Add this check\n",
        "      if len(frames) == 0:\n",
        "        frames = [np.zeros((224, 224, 3), dtype=np.uint8)] * num_frames\n",
        "      elif len(frames) < num_frames:\n",
        "        frames.extend([frames[-1]] * (num_frames - len(frames)))\n",
        "\n",
        "      return frames\n"
      ],
      "metadata": {
        "id": "Y9zKysPVuxEK"
      },
      "execution_count": null,
      "outputs": []
    },
    {
      "cell_type": "code",
      "source": [
        "class TSN(nn.Module):\n",
        "    def __init__(self, num_classes=26, num_segments=8):\n",
        "        super(TSN, self).__init__()\n",
        "        self.num_segments = num_segments\n",
        "        base_model = models.resnet18(pretrained=True)\n",
        "        self.feature_extractor = nn.Sequential(*list(base_model.children())[:-1])\n",
        "        self.fc = nn.Linear(512, num_classes)\n",
        "\n",
        "    def forward(self, x):\n",
        "        B, T, C, H, W = x.shape\n",
        "        x = x.view(-1, C, H, W)\n",
        "        x = self.feature_extractor(x)\n",
        "        x = x.view(B, T, -1)\n",
        "        x = x.mean(dim=1)\n",
        "        return self.fc(x)"
      ],
      "metadata": {
        "id": "ma8lnyR1u2np"
      },
      "execution_count": null,
      "outputs": []
    },
    {
      "cell_type": "code",
      "source": [
        "transform = transforms.Compose([\n",
        "    transforms.Resize((224, 224)),\n",
        "    transforms.ToTensor(),\n",
        "])\n",
        "train_dataset = BoLDDataset(os.path.join(DATA_DIR, 'annotations/train.csv'), os.path.join(DATA_DIR, 'videos/003'), transform)\n",
        "train_loader = DataLoader(train_dataset, batch_size=BATCH_SIZE, shuffle=True)"
      ],
      "metadata": {
        "id": "Wnv8C2tuu5a4"
      },
      "execution_count": null,
      "outputs": []
    },
    {
      "cell_type": "code",
      "source": [
        "model = TSN(num_classes=NUM_CLASSES, num_segments=NUM_SEGMENTS).to(DEVICE)\n",
        "optimizer = torch.optim.Adam(model.parameters(), lr=LR)\n",
        "criterion = nn.CrossEntropyLoss()\n",
        "\n",
        "for epoch in range(EPOCHS):\n",
        "    model.train()\n",
        "    total_loss = 0\n",
        "    for X, y in train_loader:\n",
        "        X, y = X.to(DEVICE), y.to(DEVICE)\n",
        "        optimizer.zero_grad()\n",
        "        logits = model(X)\n",
        "        loss = criterion(logits, y)\n",
        "        loss.backward()\n",
        "        optimizer.step()\n",
        "        total_loss += loss.item()\n",
        "    print(f\"Epoch {epoch+1}, Loss: {total_loss:.4f}\")"
      ],
      "metadata": {
        "colab": {
          "base_uri": "https://localhost:8080/"
        },
        "id": "2hjcjc4vu-DD",
        "outputId": "874b9e5a-63ef-4c57-b75e-43f77da4b54a"
      },
      "execution_count": null,
      "outputs": [
        {
          "output_type": "stream",
          "name": "stdout",
          "text": [
            "Epoch 1, Loss: 34.2815\n",
            "Epoch 2, Loss: 0.4719\n",
            "Epoch 3, Loss: 0.1692\n",
            "Epoch 4, Loss: 0.0775\n",
            "Epoch 5, Loss: 0.0394\n",
            "Epoch 6, Loss: 0.0209\n",
            "Epoch 7, Loss: 0.0114\n",
            "Epoch 8, Loss: 0.0063\n",
            "Epoch 9, Loss: 0.0035\n",
            "Epoch 10, Loss: 0.0019\n"
          ]
        }
      ]
    },
    {
      "cell_type": "code",
      "source": [
        "import onnx\n",
        "#from onnx_tf.backend import prepare\n",
        "import tensorflow as tf\n",
        "import numpy as np"
      ],
      "metadata": {
        "id": "BBOs2DXtC8wA"
      },
      "execution_count": null,
      "outputs": []
    },
    {
      "cell_type": "code",
      "source": [
        "model_2 = torch.load(\"tsn_traced.pt\", weights_only=False)"
      ],
      "metadata": {
        "colab": {
          "base_uri": "https://localhost:8080/"
        },
        "id": "RBX10ES5DOi4",
        "outputId": "f74d68fc-d2fd-4e4e-e647-0444795d8d90"
      },
      "execution_count": null,
      "outputs": [
        {
          "output_type": "stream",
          "name": "stderr",
          "text": [
            "/usr/local/lib/python3.11/dist-packages/torch/serialization.py:1434: UserWarning: 'torch.load' received a zip file that looks like a TorchScript archive dispatching to 'torch.jit.load' (call 'torch.jit.load' directly to silence this warning)\n",
            "  warnings.warn(\n"
          ]
        }
      ]
    },
    {
      "cell_type": "code",
      "source": [
        "model_2.eval()"
      ],
      "metadata": {
        "colab": {
          "base_uri": "https://localhost:8080/"
        },
        "id": "1UAaU3JOE4MW",
        "outputId": "ce46b5a5-b71e-4240-b2d3-16b56a2aa7f7"
      },
      "execution_count": null,
      "outputs": [
        {
          "output_type": "execute_result",
          "data": {
            "text/plain": [
              "RecursiveScriptModule(\n",
              "  original_name=TSN\n",
              "  (feature_extractor): RecursiveScriptModule(\n",
              "    original_name=Sequential\n",
              "    (0): RecursiveScriptModule(original_name=Conv2d)\n",
              "    (1): RecursiveScriptModule(original_name=BatchNorm2d)\n",
              "    (2): RecursiveScriptModule(original_name=ReLU)\n",
              "    (3): RecursiveScriptModule(original_name=MaxPool2d)\n",
              "    (4): RecursiveScriptModule(\n",
              "      original_name=Sequential\n",
              "      (0): RecursiveScriptModule(\n",
              "        original_name=BasicBlock\n",
              "        (conv1): RecursiveScriptModule(original_name=Conv2d)\n",
              "        (bn1): RecursiveScriptModule(original_name=BatchNorm2d)\n",
              "        (relu): RecursiveScriptModule(original_name=ReLU)\n",
              "        (conv2): RecursiveScriptModule(original_name=Conv2d)\n",
              "        (bn2): RecursiveScriptModule(original_name=BatchNorm2d)\n",
              "      )\n",
              "      (1): RecursiveScriptModule(\n",
              "        original_name=BasicBlock\n",
              "        (conv1): RecursiveScriptModule(original_name=Conv2d)\n",
              "        (bn1): RecursiveScriptModule(original_name=BatchNorm2d)\n",
              "        (relu): RecursiveScriptModule(original_name=ReLU)\n",
              "        (conv2): RecursiveScriptModule(original_name=Conv2d)\n",
              "        (bn2): RecursiveScriptModule(original_name=BatchNorm2d)\n",
              "      )\n",
              "    )\n",
              "    (5): RecursiveScriptModule(\n",
              "      original_name=Sequential\n",
              "      (0): RecursiveScriptModule(\n",
              "        original_name=BasicBlock\n",
              "        (conv1): RecursiveScriptModule(original_name=Conv2d)\n",
              "        (bn1): RecursiveScriptModule(original_name=BatchNorm2d)\n",
              "        (relu): RecursiveScriptModule(original_name=ReLU)\n",
              "        (conv2): RecursiveScriptModule(original_name=Conv2d)\n",
              "        (bn2): RecursiveScriptModule(original_name=BatchNorm2d)\n",
              "        (downsample): RecursiveScriptModule(\n",
              "          original_name=Sequential\n",
              "          (0): RecursiveScriptModule(original_name=Conv2d)\n",
              "          (1): RecursiveScriptModule(original_name=BatchNorm2d)\n",
              "        )\n",
              "      )\n",
              "      (1): RecursiveScriptModule(\n",
              "        original_name=BasicBlock\n",
              "        (conv1): RecursiveScriptModule(original_name=Conv2d)\n",
              "        (bn1): RecursiveScriptModule(original_name=BatchNorm2d)\n",
              "        (relu): RecursiveScriptModule(original_name=ReLU)\n",
              "        (conv2): RecursiveScriptModule(original_name=Conv2d)\n",
              "        (bn2): RecursiveScriptModule(original_name=BatchNorm2d)\n",
              "      )\n",
              "    )\n",
              "    (6): RecursiveScriptModule(\n",
              "      original_name=Sequential\n",
              "      (0): RecursiveScriptModule(\n",
              "        original_name=BasicBlock\n",
              "        (conv1): RecursiveScriptModule(original_name=Conv2d)\n",
              "        (bn1): RecursiveScriptModule(original_name=BatchNorm2d)\n",
              "        (relu): RecursiveScriptModule(original_name=ReLU)\n",
              "        (conv2): RecursiveScriptModule(original_name=Conv2d)\n",
              "        (bn2): RecursiveScriptModule(original_name=BatchNorm2d)\n",
              "        (downsample): RecursiveScriptModule(\n",
              "          original_name=Sequential\n",
              "          (0): RecursiveScriptModule(original_name=Conv2d)\n",
              "          (1): RecursiveScriptModule(original_name=BatchNorm2d)\n",
              "        )\n",
              "      )\n",
              "      (1): RecursiveScriptModule(\n",
              "        original_name=BasicBlock\n",
              "        (conv1): RecursiveScriptModule(original_name=Conv2d)\n",
              "        (bn1): RecursiveScriptModule(original_name=BatchNorm2d)\n",
              "        (relu): RecursiveScriptModule(original_name=ReLU)\n",
              "        (conv2): RecursiveScriptModule(original_name=Conv2d)\n",
              "        (bn2): RecursiveScriptModule(original_name=BatchNorm2d)\n",
              "      )\n",
              "    )\n",
              "    (7): RecursiveScriptModule(\n",
              "      original_name=Sequential\n",
              "      (0): RecursiveScriptModule(\n",
              "        original_name=BasicBlock\n",
              "        (conv1): RecursiveScriptModule(original_name=Conv2d)\n",
              "        (bn1): RecursiveScriptModule(original_name=BatchNorm2d)\n",
              "        (relu): RecursiveScriptModule(original_name=ReLU)\n",
              "        (conv2): RecursiveScriptModule(original_name=Conv2d)\n",
              "        (bn2): RecursiveScriptModule(original_name=BatchNorm2d)\n",
              "        (downsample): RecursiveScriptModule(\n",
              "          original_name=Sequential\n",
              "          (0): RecursiveScriptModule(original_name=Conv2d)\n",
              "          (1): RecursiveScriptModule(original_name=BatchNorm2d)\n",
              "        )\n",
              "      )\n",
              "      (1): RecursiveScriptModule(\n",
              "        original_name=BasicBlock\n",
              "        (conv1): RecursiveScriptModule(original_name=Conv2d)\n",
              "        (bn1): RecursiveScriptModule(original_name=BatchNorm2d)\n",
              "        (relu): RecursiveScriptModule(original_name=ReLU)\n",
              "        (conv2): RecursiveScriptModule(original_name=Conv2d)\n",
              "        (bn2): RecursiveScriptModule(original_name=BatchNorm2d)\n",
              "      )\n",
              "    )\n",
              "    (8): RecursiveScriptModule(original_name=AdaptiveAvgPool2d)\n",
              "  )\n",
              "  (fc): RecursiveScriptModule(original_name=Linear)\n",
              ")"
            ]
          },
          "metadata": {},
          "execution_count": 43
        }
      ]
    },
    {
      "cell_type": "code",
      "source": [
        "!pip install keras.src.engine"
      ],
      "metadata": {
        "colab": {
          "base_uri": "https://localhost:8080/"
        },
        "id": "YMhuQdz1FCae",
        "outputId": "b3cad1db-c557-4779-d3f1-6e0db8e67566"
      },
      "execution_count": null,
      "outputs": [
        {
          "output_type": "stream",
          "name": "stdout",
          "text": [
            "\u001b[31mERROR: Could not find a version that satisfies the requirement keras.src.engine (from versions: none)\u001b[0m\u001b[31m\n",
            "\u001b[0m\u001b[31mERROR: No matching distribution found for keras.src.engine\u001b[0m\u001b[31m\n",
            "\u001b[0m"
          ]
        }
      ]
    }
  ]
}